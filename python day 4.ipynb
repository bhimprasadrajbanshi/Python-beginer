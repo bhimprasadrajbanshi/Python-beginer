{
 "cells": [
  {
   "cell_type": "markdown",
   "id": "085cf491",
   "metadata": {},
   "source": [
    "# Python day 4"
   ]
  },
  {
   "cell_type": "code",
   "execution_count": 8,
   "id": "2a3510c2",
   "metadata": {},
   "outputs": [
    {
     "name": "stdout",
     "output_type": "stream",
     "text": [
      "[10, 20, 55]\n"
     ]
    }
   ],
   "source": [
    "\n",
    "#l=[10,20,33,46,55]\n",
    "l= []\n",
    "for i in [10,20,33,46,55]:\n",
    "    if i%5==0:\n",
    "        l.append(i)\n",
    "        \n",
    "    \n",
    "print(l)"
   ]
  },
  {
   "cell_type": "code",
   "execution_count": 35,
   "id": "59a38fd7",
   "metadata": {},
   "outputs": [
    {
     "name": "stdout",
     "output_type": "stream",
     "text": [
      "1  \n",
      "2 2  \n",
      "3 3 3  \n",
      "4 4 4 4  \n",
      "5 5 5 5 5  \n"
     ]
    }
   ],
   "source": [
    "for i in range(1,6):\n",
    "    for j in range(i):\n",
    "        print(i, end=\" \")\n",
    "    print( end=\" \\n\")"
   ]
  },
  {
   "cell_type": "code",
   "execution_count": 9,
   "id": "809cecbd",
   "metadata": {},
   "outputs": [
    {
     "name": "stdout",
     "output_type": "stream",
     "text": [
      "enter the number to check palindrom121\n"
     ]
    }
   ],
   "source": [
    "#palindrome\n",
    "num= int(input(\"enter the number to check palindrom\"))\n",
    "reverse\n",
    "while(num>0):\n",
    "    rem=num%10\n",
    "    num=num/10\n",
    "    reverse= reverse*10+rem\n",
    "    \n",
    "if(num==reverse):\n",
    "    print(\"your number is plaindrome\")"
   ]
  },
  {
   "cell_type": "code",
   "execution_count": 30,
   "id": "79cb5ef5",
   "metadata": {},
   "outputs": [
    {
     "name": "stdout",
     "output_type": "stream",
     "text": [
      "Ram\n",
      "25\n",
      "Ram 25\n",
      "The given name is  25\n",
      "None\n"
     ]
    }
   ],
   "source": [
    "# class in python\n",
    "class Person:\n",
    "    def __init__(self,name,age):\n",
    "            self.name=name\n",
    "            self.age=age\n",
    "    \n",
    "    #adding str funtion\n",
    "    def __str__(self):\n",
    "        return str(self.name)+\" \"+str(self.age)\n",
    "        #or return f\"{self.name}({self.age})\" \n",
    "     \n",
    "    #adding another funtion\n",
    "    def MyFuntion(self):\n",
    "        print(\"The given name is \",self.age)\n",
    "    \n",
    "    \n",
    "p1=Person(\"Ram\",25)\n",
    "print(p1.name)\n",
    "print(p1.age)\n",
    "print(p1)\n",
    "print(p1.MyFuntion())\n"
   ]
  },
  {
   "cell_type": "code",
   "execution_count": 37,
   "id": "383caf6b",
   "metadata": {},
   "outputs": [
    {
     "name": "stdout",
     "output_type": "stream",
     "text": [
      "area of room= 120\n"
     ]
    }
   ],
   "source": [
    "#create a class\n",
    "class Room:\n",
    "    l=0.0\n",
    "    b=0.0\n",
    "    \n",
    "    #methode to calculate area\n",
    "    def calculate_area(self):\n",
    "        print(\"area of room=\",self.l*self.b)\n",
    "    \n",
    "#create object of room class\n",
    "Study_room=Room()\n",
    "\n",
    "#asign value\n",
    "Study_room.l=12\n",
    "Study_room.b=10\n",
    "\n",
    "Study_room.calculate_area()"
   ]
  },
  {
   "cell_type": "markdown",
   "id": "6b8d3556",
   "metadata": {},
   "source": [
    "# Inheritance in python"
   ]
  },
  {
   "cell_type": "code",
   "execution_count": 41,
   "id": "29234365",
   "metadata": {},
   "outputs": [
    {
     "name": "stdout",
     "output_type": "stream",
     "text": [
      "i can eat\n",
      "my name is Ram \n"
     ]
    }
   ],
   "source": [
    "class Animal:\n",
    "    #attribute and methode of the parent class\n",
    "    name=\"Ram \"\n",
    "    def eat(self):\n",
    "        print(\"i can eat\")\n",
    "    #inheritance from animal\n",
    "class Dog(Animal):\n",
    "    #new methode in sub class\n",
    "    def display(self):\n",
    "        print(\"my name is\",self.name)\n",
    "#create an obkect of the subclass\n",
    "labrador=Dog()\n",
    "\n",
    "#access superclass attribute and methode\n",
    "labrador.eat()\n",
    "\n",
    "#call subclass methode\n",
    "labrador.display()"
   ]
  },
  {
   "cell_type": "code",
   "execution_count": 44,
   "id": "368c5f51",
   "metadata": {},
   "outputs": [
    {
     "name": "stdout",
     "output_type": "stream",
     "text": [
      "methode override\n"
     ]
    }
   ],
   "source": [
    "#The ovrride Methode in python inheritance\n",
    "class Animal:\n",
    "    #attribute and methode of the parent class\n",
    "    name=\"Ram \"\n",
    "    def eat(self):\n",
    "        print(\"i can eat\")\n",
    "    #inheritance from animal\n",
    "class Dog(Animal):\n",
    "    #overrirde in sub class\n",
    "    def eat(self):\n",
    "        print(\"methode override\")\n",
    "#create an obkect of the subclass\n",
    "labrador=Dog()\n",
    "\n",
    "#access superclass attribute and methode\n",
    "labrador.eat()\n",
    "\n"
   ]
  },
  {
   "cell_type": "code",
   "execution_count": 46,
   "id": "6233402e",
   "metadata": {},
   "outputs": [
    {
     "name": "stdout",
     "output_type": "stream",
     "text": [
      "i can eat\n"
     ]
    }
   ],
   "source": [
    "#The super() Methode in python inheritance\n",
    "class Animal:\n",
    "    #attribute and methode of the parent class\n",
    "    name=\"Ram \"\n",
    "    def eat(self):\n",
    "        print(\"i can eat\")\n",
    "    #inheritance from animal\n",
    "class Dog(Animal):\n",
    "    #new methode in sub class\n",
    "    def display(self):\n",
    "        super().eat()\n",
    "#create an obkect of the subclass\n",
    "labrador=Dog()\n",
    "\n",
    "#access superclass attribute and methode\n",
    "labrador.eat()\n",
    "\n"
   ]
  },
  {
   "cell_type": "code",
   "execution_count": null,
   "id": "b3d66133",
   "metadata": {},
   "outputs": [],
   "source": []
  }
 ],
 "metadata": {
  "kernelspec": {
   "display_name": "Python 3 (ipykernel)",
   "language": "python",
   "name": "python3"
  },
  "language_info": {
   "codemirror_mode": {
    "name": "ipython",
    "version": 3
   },
   "file_extension": ".py",
   "mimetype": "text/x-python",
   "name": "python",
   "nbconvert_exporter": "python",
   "pygments_lexer": "ipython3",
   "version": "3.10.5"
  }
 },
 "nbformat": 4,
 "nbformat_minor": 5
}
