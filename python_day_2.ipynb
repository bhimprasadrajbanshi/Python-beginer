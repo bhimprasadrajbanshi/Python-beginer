{
 "cells": [
  {
   "cell_type": "markdown",
   "id": "e732ed8d",
   "metadata": {},
   "source": [
    "***Python day 2 practise***"
   ]
  },
  {
   "cell_type": "code",
   "execution_count": 1,
   "id": "b4c779e0",
   "metadata": {},
   "outputs": [],
   "source": [
    "a=8\n",
    "b=9\n",
    "c=a+b"
   ]
  },
  {
   "cell_type": "code",
   "execution_count": 2,
   "id": "07170621",
   "metadata": {},
   "outputs": [
    {
     "name": "stdout",
     "output_type": "stream",
     "text": [
      "17\n"
     ]
    }
   ],
   "source": [
    "print(c)"
   ]
  },
  {
   "cell_type": "code",
   "execution_count": 4,
   "id": "aec69db7",
   "metadata": {},
   "outputs": [
    {
     "name": "stdout",
     "output_type": "stream",
     "text": [
      "6\n"
     ]
    }
   ],
   "source": [
    "'funtions in python'\n",
    "d=6\n",
    "print(d)"
   ]
  },
  {
   "cell_type": "code",
   "execution_count": 9,
   "id": "97c6a0c3",
   "metadata": {},
   "outputs": [
    {
     "name": "stdout",
     "output_type": "stream",
     "text": [
      "hello i m while loop\n",
      "hello i m while loop\n",
      "hello i m while loop\n"
     ]
    }
   ],
   "source": [
    "'while loop in python'\n",
    "count=0\n",
    "while(count<3):\n",
    "    count=count+1\n",
    "    print(\"hello i m while loop\")"
   ]
  },
  {
   "cell_type": "code",
   "execution_count": 10,
   "id": "83cafefc",
   "metadata": {},
   "outputs": [
    {
     "name": "stdout",
     "output_type": "stream",
     "text": [
      "hello i m for loop\n",
      "hello i m for loop\n",
      "hello i m for loop\n",
      "hello i m for loop\n"
     ]
    }
   ],
   "source": [
    "'for loop in python'\n",
    "n=3\n",
    "for i in range(0,4):\n",
    "    print(\"hello i m for loop\")\n"
   ]
  },
  {
   "cell_type": "code",
   "execution_count": 31,
   "id": "a8eeba94",
   "metadata": {},
   "outputs": [
    {
     "name": "stdout",
     "output_type": "stream",
     "text": [
      "current number= 1 previous number= 0 sum= 1\n",
      "current number= 2 previous number= 1 sum= 3\n",
      "current number= 3 previous number= 2 sum= 5\n",
      "current number= 4 previous number= 3 sum= 7\n",
      "current number= 5 previous number= 4 sum= 9\n",
      "current number= 6 previous number= 5 sum= 11\n",
      "current number= 7 previous number= 6 sum= 13\n",
      "current number= 8 previous number= 7 sum= 15\n",
      "current number= 9 previous number= 8 sum= 17\n",
      "current number= 10 previous number= 9 sum= 19\n",
      "current number= 11 previous number= 10 sum= 21\n"
     ]
    }
   ],
   "source": [
    "'qsn 2 in python'\n",
    "sum=0\n",
    "count=0;\n",
    "for i in range(0,11):\n",
    "    count=i;\n",
    "    sum=count+i+1;\n",
    "    print(\"current number=\" ,i+1,\"previous number=\",i, \"sum=\",sum)\n",
    "    \n",
    "        \n",
    "    "
   ]
  },
  {
   "cell_type": "code",
   "execution_count": 37,
   "id": "dfbeeeb4",
   "metadata": {},
   "outputs": [
    {
     "name": "stdout",
     "output_type": "stream",
     "text": [
      "hello im funtion\n",
      "im outside funtion\n"
     ]
    }
   ],
   "source": [
    "'funtion in python '\n",
    "def Myfun():\n",
    "    print(\"hello im funtion\")\n",
    "\n",
    "Myfun() \n",
    "print(\"im outside funtion\")"
   ]
  },
  {
   "cell_type": "code",
   "execution_count": 40,
   "id": "83047d9e",
   "metadata": {},
   "outputs": [
    {
     "name": "stdout",
     "output_type": "stream",
     "text": [
      "sum= 6\n"
     ]
    }
   ],
   "source": [
    "def add_numbers(num1,num2):\n",
    "    sum=num1+num2;\n",
    "    print(\"sum=\" ,sum)\n",
    "\n",
    "add_numbers(2,4)\n"
   ]
  },
  {
   "cell_type": "code",
   "execution_count": 43,
   "id": "e5d6be79",
   "metadata": {},
   "outputs": [
    {
     "name": "stdout",
     "output_type": "stream",
     "text": [
      "sqaure: 16\n"
     ]
    }
   ],
   "source": [
    "#funtion defination\n",
    "def find_sqaure(num):\n",
    "    result=num*num\n",
    "    return result\n",
    "sqaure=find_sqaure(4) #funtion call\n",
    "print(\"sqaure:\",sqaure)"
   ]
  },
  {
   "cell_type": "code",
   "execution_count": 53,
   "id": "244b045c",
   "metadata": {},
   "outputs": [
    {
     "name": "stdout",
     "output_type": "stream",
     "text": [
      "square of  1 is 1 \n",
      "square of  2 is 4 \n",
      "square of  3 is 9 \n"
     ]
    }
   ],
   "source": [
    "def get_square(num):\n",
    "    return num*num\n",
    "\n",
    "for i in [1,2,3]:#using list in for loop\n",
    "    result=get_square(i)\n",
    "    print(\"square of \",i,\"is\",result ,end=\" \\n\")"
   ]
  },
  {
   "cell_type": "code",
   "execution_count": 61,
   "id": "f96e501c",
   "metadata": {},
   "outputs": [
    {
     "name": "stdout",
     "output_type": "stream",
     "text": [
      "sum= 3\n",
      "sum= 18\n"
     ]
    }
   ],
   "source": [
    "#program to find sum of multiple numbers\n",
    "def find_sum(*numbers):\n",
    "    result=0;\n",
    "    for num in numbers:\n",
    "        result=result+num\n",
    "    print(\"sum=\",result)\n",
    "find_sum(1,2) #funtion call with 2 argument\n",
    "\n",
    "find_sum(1,2,3,4,8) #funtion call with 5 argument"
   ]
  },
  {
   "cell_type": "code",
   "execution_count": 66,
   "id": "b4aaf038",
   "metadata": {},
   "outputs": [
    {
     "name": "stdout",
     "output_type": "stream",
     "text": [
      "\n",
      "data type of argument: <class 'dict'>\n",
      "firstname is sita\n",
      "lastname is Rai\n",
      "email is sita@gmail.com\n",
      "age is 25\n",
      "\n",
      "data type of argument: <class 'dict'>\n",
      "firstname is Ram\n",
      "lastname is Rai\n",
      "email is ram@gmail.com\n",
      "country is nepal\n",
      "age is 25\n"
     ]
    }
   ],
   "source": [
    "#Arbitrary Keyword argument(**kwargs)\n",
    "def intro(**data):\n",
    "    print(\"\\ndata type of argument:\", type(data))\n",
    "    for key, value in data.items():\n",
    "        #print(key \"is\" value)\n",
    "        print(\"{} is {}\".format(key,value))\n",
    "        \n",
    "\n",
    "intro(firstname=\"sita\", lastname=\"Rai\",email=\"sita@gmail.com\", age=25)\n",
    "intro(firstname=\"Ram\", lastname=\"Rai\",email=\"ram@gmail.com\",country=\"nepal\",age=25)       "
   ]
  },
  {
   "cell_type": "code",
   "execution_count": null,
   "id": "ed4385fb",
   "metadata": {},
   "outputs": [],
   "source": []
  }
 ],
 "metadata": {
  "kernelspec": {
   "display_name": "Python 3 (ipykernel)",
   "language": "python",
   "name": "python3"
  },
  "language_info": {
   "codemirror_mode": {
    "name": "ipython",
    "version": 3
   },
   "file_extension": ".py",
   "mimetype": "text/x-python",
   "name": "python",
   "nbconvert_exporter": "python",
   "pygments_lexer": "ipython3",
   "version": "3.10.5"
  }
 },
 "nbformat": 4,
 "nbformat_minor": 5
}
