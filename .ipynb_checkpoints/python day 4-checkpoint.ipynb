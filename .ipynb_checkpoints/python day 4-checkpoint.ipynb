{
 "cells": [
  {
   "cell_type": "markdown",
   "id": "085cf491",
   "metadata": {},
   "source": [
    "# Python day 4"
   ]
  },
  {
   "cell_type": "code",
   "execution_count": 8,
   "id": "2a3510c2",
   "metadata": {},
   "outputs": [
    {
     "name": "stdout",
     "output_type": "stream",
     "text": [
      "[10, 20, 55]\n"
     ]
    }
   ],
   "source": [
    "\n",
    "#l=[10,20,33,46,55]\n",
    "l= []\n",
    "for i in [10,20,33,46,55]:\n",
    "    if i%5==0:\n",
    "        l.append(i)\n",
    "        \n",
    "    \n",
    "print(l)"
   ]
  },
  {
   "cell_type": "code",
   "execution_count": 35,
   "id": "59a38fd7",
   "metadata": {},
   "outputs": [
    {
     "name": "stdout",
     "output_type": "stream",
     "text": [
      "1  \n",
      "2 2  \n",
      "3 3 3  \n",
      "4 4 4 4  \n",
      "5 5 5 5 5  \n"
     ]
    }
   ],
   "source": [
    "for i in range(1,6):\n",
    "    for j in range(i):\n",
    "        print(i, end=\" \")\n",
    "    print( end=\" \\n\")"
   ]
  },
  {
   "cell_type": "code",
   "execution_count": 9,
   "id": "809cecbd",
   "metadata": {},
   "outputs": [
    {
     "name": "stdout",
     "output_type": "stream",
     "text": [
      "enter the number to check palindrom121\n"
     ]
    }
   ],
   "source": [
    "#palindrome\n",
    "num= int(input(\"enter the number to check palindrom\"))\n",
    "reverse\n",
    "while(num>0):\n",
    "    rem=num%10\n",
    "    num=num/10\n",
    "    reverse= reverse*10+rem\n",
    "    \n",
    "if(num==reverse):\n",
    "    print(\"your number is plaindrome\")"
   ]
  },
  {
   "cell_type": "code",
   "execution_count": 20,
   "id": "f26135c5",
   "metadata": {},
   "outputs": [
    {
     "ename": "TypeError",
     "evalue": "person() takes no arguments",
     "output_type": "error",
     "traceback": [
      "\u001b[1;31m---------------------------------------------------------------------------\u001b[0m",
      "\u001b[1;31mTypeError\u001b[0m                                 Traceback (most recent call last)",
      "Cell \u001b[1;32mIn [20], line 8\u001b[0m\n\u001b[0;32m      4\u001b[0m             \u001b[38;5;28mself\u001b[39m\u001b[38;5;241m.\u001b[39mname\u001b[38;5;241m=\u001b[39mname\n\u001b[0;32m      5\u001b[0m             \u001b[38;5;28mself\u001b[39m\u001b[38;5;241m.\u001b[39mage\u001b[38;5;241m=\u001b[39mage\n\u001b[1;32m----> 8\u001b[0m p1\u001b[38;5;241m=\u001b[39m\u001b[43mperson\u001b[49m\u001b[43m(\u001b[49m\u001b[38;5;124;43m\"\u001b[39;49m\u001b[38;5;124;43mRam\u001b[39;49m\u001b[38;5;124;43m\"\u001b[39;49m\u001b[43m,\u001b[49m\u001b[38;5;241;43m25\u001b[39;49m\u001b[43m)\u001b[49m\n\u001b[0;32m      9\u001b[0m \u001b[38;5;28mprint\u001b[39m(p1\u001b[38;5;241m.\u001b[39mname)\n\u001b[0;32m     10\u001b[0m \u001b[38;5;28mprint\u001b[39m(p1\u001b[38;5;241m.\u001b[39mage)\n",
      "\u001b[1;31mTypeError\u001b[0m: person() takes no arguments"
     ]
    }
   ],
   "source": [
    "# class in python\n",
    "class person:\n",
    "    def __init__(self,name,age):\n",
    "            self.name=name\n",
    "            self.age=age\n",
    "    \n",
    "p1=person(\"Ram\",25)\n",
    "print(p1.name)\n",
    "print(p1.age)\n",
    "\n"
   ]
  },
  {
   "cell_type": "code",
   "execution_count": null,
   "id": "383caf6b",
   "metadata": {},
   "outputs": [],
   "source": []
  }
 ],
 "metadata": {
  "kernelspec": {
   "display_name": "Python 3 (ipykernel)",
   "language": "python",
   "name": "python3"
  },
  "language_info": {
   "codemirror_mode": {
    "name": "ipython",
    "version": 3
   },
   "file_extension": ".py",
   "mimetype": "text/x-python",
   "name": "python",
   "nbconvert_exporter": "python",
   "pygments_lexer": "ipython3",
   "version": "3.10.5"
  }
 },
 "nbformat": 4,
 "nbformat_minor": 5
}
