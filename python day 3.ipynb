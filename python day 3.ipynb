{
 "cells": [
  {
   "cell_type": "markdown",
   "id": "c4b566c1",
   "metadata": {},
   "source": [
    "# Python day 3"
   ]
  },
  {
   "cell_type": "code",
   "execution_count": 13,
   "id": "2aeb9c63",
   "metadata": {},
   "outputs": [
    {
     "name": "stdout",
     "output_type": "stream",
     "text": [
      "<class 'float'>\n",
      "11\n",
      "<class 'float'>\n"
     ]
    }
   ],
   "source": [
    "#Implicit tye conversion\n",
    "a=2\n",
    "b=9.8\n",
    "c=a+b\n",
    "print(type(c))\n",
    "print(int(c))\n",
    "print(type(c))"
   ]
  },
  {
   "cell_type": "code",
   "execution_count": 15,
   "id": "408e990c",
   "metadata": {},
   "outputs": [
    {
     "name": "stdout",
     "output_type": "stream",
     "text": [
      "After converting to int base 2: 18\n",
      "After converting to int float: 10010.0str"
     ]
    }
   ],
   "source": [
    "#Explicit type conversion\n",
    "s=\"10010\"\n",
    "#printing string converting to in base 2\n",
    "c=int(s,2)\n",
    "print(\"After converting to int base 2:\",end=\" \")\n",
    "print(c)\n",
    "#printing string converting to float\n",
    "e=float(s)\n",
    "print(\"After converting to int float:\",end=\" \")\n",
    "print(e ,end=\"str\")"
   ]
  },
  {
   "cell_type": "code",
   "execution_count": 17,
   "id": "486a225f",
   "metadata": {},
   "outputs": [
    {
     "name": "stdout",
     "output_type": "stream",
     "text": [
      "list = [5]\n"
     ]
    }
   ],
   "source": [
    "#list\n",
    "list=[]\n",
    "\n",
    "#Adding element into list\n",
    "list.append(5)\n",
    "print(\"list =\", list)"
   ]
  },
  {
   "cell_type": "code",
   "execution_count": 37,
   "id": "024a3afa",
   "metadata": {},
   "outputs": [],
   "source": [
    "list.append(\"hy\")\n",
    "list.append(9)"
   ]
  },
  {
   "cell_type": "code",
   "execution_count": 38,
   "id": "ef6c71b9",
   "metadata": {},
   "outputs": [
    {
     "name": "stdout",
     "output_type": "stream",
     "text": [
      "list = [6, 6, 7, 'hy', 9]\n"
     ]
    }
   ],
   "source": [
    "print(\"list =\", list)"
   ]
  },
  {
   "cell_type": "code",
   "execution_count": 29,
   "id": "42974495",
   "metadata": {},
   "outputs": [
    {
     "data": {
      "text/plain": [
       "6"
      ]
     },
     "execution_count": 29,
     "metadata": {},
     "output_type": "execute_result"
    }
   ],
   "source": [
    "list.pop()\n"
   ]
  },
  {
   "cell_type": "code",
   "execution_count": 22,
   "id": "6428d9a3",
   "metadata": {},
   "outputs": [],
   "source": [
    "#set\n",
    "s=set()"
   ]
  },
  {
   "cell_type": "code",
   "execution_count": 39,
   "id": "a44b5f53",
   "metadata": {},
   "outputs": [],
   "source": [
    "#adding elemet into set\n",
    "s.add(3)\n",
    "s.add(\"hello\")\n",
    "s.add(9)"
   ]
  },
  {
   "cell_type": "code",
   "execution_count": 40,
   "id": "4625a09e",
   "metadata": {},
   "outputs": [
    {
     "name": "stdout",
     "output_type": "stream",
     "text": [
      "{9, 3, 'hello'}\n"
     ]
    }
   ],
   "source": [
    "print(s)"
   ]
  },
  {
   "cell_type": "code",
   "execution_count": 30,
   "id": "65876abf",
   "metadata": {},
   "outputs": [
    {
     "ename": "KeyError",
     "evalue": "4",
     "output_type": "error",
     "traceback": [
      "\u001b[1;31m---------------------------------------------------------------------------\u001b[0m",
      "\u001b[1;31mKeyError\u001b[0m                                  Traceback (most recent call last)",
      "Cell \u001b[1;32mIn [30], line 1\u001b[0m\n\u001b[1;32m----> 1\u001b[0m \u001b[43ms\u001b[49m\u001b[38;5;241;43m.\u001b[39;49m\u001b[43mremove\u001b[49m\u001b[43m(\u001b[49m\u001b[38;5;241;43m4\u001b[39;49m\u001b[43m)\u001b[49m\n",
      "\u001b[1;31mKeyError\u001b[0m: 4"
     ]
    }
   ],
   "source": [
    "s.remove(4)"
   ]
  },
  {
   "cell_type": "code",
   "execution_count": 41,
   "id": "86ed2fc6",
   "metadata": {},
   "outputs": [],
   "source": [
    "s.remove(3)"
   ]
  },
  {
   "cell_type": "code",
   "execution_count": 42,
   "id": "ccf64e52",
   "metadata": {},
   "outputs": [
    {
     "name": "stdout",
     "output_type": "stream",
     "text": [
      "{9, 'hello'}\n"
     ]
    }
   ],
   "source": [
    "print(s)"
   ]
  },
  {
   "cell_type": "code",
   "execution_count": 44,
   "id": "438229fe",
   "metadata": {},
   "outputs": [
    {
     "name": "stdout",
     "output_type": "stream",
     "text": [
      "2\n"
     ]
    }
   ],
   "source": [
    "print(len(s))#print length set"
   ]
  },
  {
   "cell_type": "code",
   "execution_count": 45,
   "id": "c798e8b9",
   "metadata": {},
   "outputs": [],
   "source": [
    "s.add(\"nepal\")"
   ]
  },
  {
   "cell_type": "code",
   "execution_count": 46,
   "id": "4c232f43",
   "metadata": {},
   "outputs": [
    {
     "name": "stdout",
     "output_type": "stream",
     "text": [
      "{9, 'hello', 'nepal'}\n"
     ]
    }
   ],
   "source": [
    "print(s)"
   ]
  },
  {
   "cell_type": "code",
   "execution_count": 47,
   "id": "6e5d3162",
   "metadata": {},
   "outputs": [],
   "source": [
    "s.add(\"aepal\")"
   ]
  },
  {
   "cell_type": "code",
   "execution_count": 48,
   "id": "695fd7c8",
   "metadata": {},
   "outputs": [
    {
     "name": "stdout",
     "output_type": "stream",
     "text": [
      "{'nepal', 9, 'aepal', 'hello'}\n"
     ]
    }
   ],
   "source": [
    "print(s)"
   ]
  },
  {
   "cell_type": "code",
   "execution_count": 49,
   "id": "dbd9aff5",
   "metadata": {},
   "outputs": [],
   "source": [
    "#tuple\n",
    "t=tuple(list)"
   ]
  },
  {
   "cell_type": "code",
   "execution_count": 50,
   "id": "53d129d3",
   "metadata": {},
   "outputs": [
    {
     "name": "stdout",
     "output_type": "stream",
     "text": [
      "(6, 6, 7, 'hy', 9)\n"
     ]
    }
   ],
   "source": [
    "print(t)"
   ]
  },
  {
   "cell_type": "code",
   "execution_count": 51,
   "id": "07a8836a",
   "metadata": {},
   "outputs": [
    {
     "ename": "AttributeError",
     "evalue": "'tuple' object has no attribute 'append'",
     "output_type": "error",
     "traceback": [
      "\u001b[1;31m---------------------------------------------------------------------------\u001b[0m",
      "\u001b[1;31mAttributeError\u001b[0m                            Traceback (most recent call last)",
      "Cell \u001b[1;32mIn [51], line 1\u001b[0m\n\u001b[1;32m----> 1\u001b[0m \u001b[43mt\u001b[49m\u001b[38;5;241;43m.\u001b[39;49m\u001b[43mappend\u001b[49m(\u001b[38;5;241m9\u001b[39m)\n",
      "\u001b[1;31mAttributeError\u001b[0m: 'tuple' object has no attribute 'append'"
     ]
    }
   ],
   "source": [
    "t.append(9)"
   ]
  },
  {
   "cell_type": "markdown",
   "id": "9bbf55c6",
   "metadata": {},
   "source": [
    "# dictionary\n"
   ]
  },
  {
   "cell_type": "code",
   "execution_count": 52,
   "id": "3a1678f8",
   "metadata": {},
   "outputs": [],
   "source": [
    "d={}\n",
    "\n",
    "d[3]=\"hello am vlaue 3\"\n",
    "d[6]=\"hello am vlaue 6\""
   ]
  },
  {
   "cell_type": "code",
   "execution_count": 57,
   "id": "d37ad44f",
   "metadata": {},
   "outputs": [
    {
     "name": "stdout",
     "output_type": "stream",
     "text": [
      "{3: 'hello am vlaue 3', 6: 'hello am vlaue 6'} "
     ]
    }
   ],
   "source": [
    "print(d ,end=\" \")"
   ]
  },
  {
   "cell_type": "code",
   "execution_count": 58,
   "id": "2754c70a",
   "metadata": {},
   "outputs": [],
   "source": [
    "del d[3]"
   ]
  },
  {
   "cell_type": "code",
   "execution_count": 59,
   "id": "150e23ec",
   "metadata": {},
   "outputs": [
    {
     "name": "stdout",
     "output_type": "stream",
     "text": [
      "{6: 'hello am vlaue 6'}\n"
     ]
    }
   ],
   "source": [
    "print(d)"
   ]
  },
  {
   "cell_type": "code",
   "execution_count": 68,
   "id": "cd92d496",
   "metadata": {},
   "outputs": [],
   "source": [
    "d[6]=\" im another value of 6\""
   ]
  },
  {
   "cell_type": "code",
   "execution_count": 65,
   "id": "0dcf5287",
   "metadata": {},
   "outputs": [
    {
     "name": "stdout",
     "output_type": "stream",
     "text": [
      "{6: ' im another value of 6'}\n"
     ]
    }
   ],
   "source": [
    "print(d)"
   ]
  },
  {
   "cell_type": "code",
   "execution_count": 69,
   "id": "e4dac1de",
   "metadata": {},
   "outputs": [
    {
     "ename": "KeyError",
     "evalue": "'im another value of 6'",
     "output_type": "error",
     "traceback": [
      "\u001b[1;31m---------------------------------------------------------------------------\u001b[0m",
      "\u001b[1;31mKeyError\u001b[0m                                  Traceback (most recent call last)",
      "Cell \u001b[1;32mIn [69], line 1\u001b[0m\n\u001b[1;32m----> 1\u001b[0m \u001b[43md\u001b[49m\u001b[38;5;241;43m.\u001b[39;49m\u001b[43mpop\u001b[49m\u001b[43m(\u001b[49m\u001b[38;5;124;43m\"\u001b[39;49m\u001b[38;5;124;43mim another value of 6\u001b[39;49m\u001b[38;5;124;43m\"\u001b[39;49m\u001b[43m)\u001b[49m\n\u001b[0;32m      2\u001b[0m \u001b[38;5;28mprint\u001b[39m(d)\n",
      "\u001b[1;31mKeyError\u001b[0m: 'im another value of 6'"
     ]
    }
   ],
   "source": [
    "d.pop(\"im another value of 6\")\n",
    "print(d)"
   ]
  },
  {
   "cell_type": "code",
   "execution_count": 70,
   "id": "c46d7e85",
   "metadata": {},
   "outputs": [],
   "source": [
    "d[6]=\" im another value of 6\""
   ]
  },
  {
   "cell_type": "code",
   "execution_count": 71,
   "id": "646c45d9",
   "metadata": {},
   "outputs": [
    {
     "name": "stdout",
     "output_type": "stream",
     "text": [
      "8\n"
     ]
    }
   ],
   "source": [
    "a=2**3\n",
    "print(a)"
   ]
  },
  {
   "cell_type": "markdown",
   "id": "f9f32946",
   "metadata": {},
   "source": [
    "# comprehesion"
   ]
  },
  {
   "cell_type": "code",
   "execution_count": 77,
   "id": "04dee573",
   "metadata": {},
   "outputs": [
    {
     "name": "stdout",
     "output_type": "stream",
     "text": [
      "{1: 1, 2: 4, 3: 9, 4: 16, 5: 25, 6: 36, 7: 49, 8: 64, 9: 81, 10: 100}\n"
     ]
    }
   ],
   "source": [
    "square_dict=dict()\n",
    "\n",
    "for num in range(1,11):\n",
    "    square_dict[num]= num*num\n",
    "print(square_dict)\n",
    "    "
   ]
  },
  {
   "cell_type": "code",
   "execution_count": 74,
   "id": "55e97780",
   "metadata": {},
   "outputs": [
    {
     "name": "stdout",
     "output_type": "stream",
     "text": [
      "{1: 1, 2: 4, 3: 9, 4: 16, 5: 25, 6: 36, 7: 49, 8: 64, 9: 81, 10: 100}\n"
     ]
    }
   ],
   "source": [
    "square_dict={num:num*num for num in range(1,11)}\n",
    "print(square_dict)"
   ]
  },
  {
   "cell_type": "code",
   "execution_count": null,
   "id": "1d0ac914",
   "metadata": {},
   "outputs": [],
   "source": []
  }
 ],
 "metadata": {
  "kernelspec": {
   "display_name": "Python 3 (ipykernel)",
   "language": "python",
   "name": "python3"
  },
  "language_info": {
   "codemirror_mode": {
    "name": "ipython",
    "version": 3
   },
   "file_extension": ".py",
   "mimetype": "text/x-python",
   "name": "python",
   "nbconvert_exporter": "python",
   "pygments_lexer": "ipython3",
   "version": "3.10.5"
  }
 },
 "nbformat": 4,
 "nbformat_minor": 5
}
