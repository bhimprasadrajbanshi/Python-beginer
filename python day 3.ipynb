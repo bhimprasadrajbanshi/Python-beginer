{
 "cells": [
  {
   "cell_type": "markdown",
   "id": "60ed200c",
   "metadata": {},
   "source": [
    "# Python day 3"
   ]
  },
  {
   "cell_type": "code",
   "execution_count": 13,
   "id": "363e2ea5",
   "metadata": {},
   "outputs": [
    {
     "name": "stdout",
     "output_type": "stream",
     "text": [
      "<class 'float'>\n",
      "11\n",
      "<class 'float'>\n"
     ]
    }
   ],
   "source": [
    "#Implicit tye conversion\n",
    "a=2\n",
    "b=9.8\n",
    "c=a+b\n",
    "print(type(c))\n",
    "print(int(c))\n",
    "print(type(c))"
   ]
  },
  {
   "cell_type": "code",
   "execution_count": 15,
   "id": "05b431de",
   "metadata": {},
   "outputs": [
    {
     "name": "stdout",
     "output_type": "stream",
     "text": [
      "After converting to int base 2: 18\n",
      "After converting to int float: 10010.0str"
     ]
    }
   ],
   "source": [
    "#Explicit type conversion\n",
    "s=\"10010\"\n",
    "#printing string converting to in base 2\n",
    "c=int(s,2)\n",
    "print(\"After converting to int base 2:\",end=\" \")\n",
    "print(c)\n",
    "#printing string converting to float\n",
    "e=float(s)\n",
    "print(\"After converting to int float:\",end=\" \")\n",
    "print(e ,end=\"str\")"
   ]
  },
  {
   "cell_type": "code",
   "execution_count": 17,
   "id": "57f689d2",
   "metadata": {},
   "outputs": [
    {
     "name": "stdout",
     "output_type": "stream",
     "text": [
      "list = [5]\n"
     ]
    }
   ],
   "source": [
    "#list\n",
    "list=[]\n",
    "\n",
    "#Adding element into list\n",
    "list.append(5)\n",
    "print(\"list =\", list)"
   ]
  },
  {
   "cell_type": "code",
   "execution_count": 37,
   "id": "5280cf47",
   "metadata": {},
   "outputs": [],
   "source": [
    "list.append(\"hy\")\n",
    "list.append(9)"
   ]
  },
  {
   "cell_type": "code",
   "execution_count": 38,
   "id": "10f4c7e9",
   "metadata": {},
   "outputs": [
    {
     "name": "stdout",
     "output_type": "stream",
     "text": [
      "list = [6, 6, 7, 'hy', 9]\n"
     ]
    }
   ],
   "source": [
    "print(\"list =\", list)"
   ]
  },
  {
   "cell_type": "code",
   "execution_count": 29,
   "id": "9447c346",
   "metadata": {},
   "outputs": [
    {
     "data": {
      "text/plain": [
       "6"
      ]
     },
     "execution_count": 29,
     "metadata": {},
     "output_type": "execute_result"
    }
   ],
   "source": [
    "list.pop()\n"
   ]
  },
  {
   "cell_type": "code",
   "execution_count": 22,
   "id": "4df3f721",
   "metadata": {},
   "outputs": [],
   "source": [
    "#set\n",
    "s=set()"
   ]
  },
  {
   "cell_type": "code",
   "execution_count": 39,
   "id": "c6cd1b85",
   "metadata": {},
   "outputs": [],
   "source": [
    "#adding elemet into set\n",
    "s.add(3)\n",
    "s.add(\"hello\")\n",
    "s.add(9)"
   ]
  },
  {
   "cell_type": "code",
   "execution_count": 40,
   "id": "fec02b3e",
   "metadata": {},
   "outputs": [
    {
     "name": "stdout",
     "output_type": "stream",
     "text": [
      "{9, 3, 'hello'}\n"
     ]
    }
   ],
   "source": [
    "print(s)"
   ]
  },
  {
   "cell_type": "code",
   "execution_count": 30,
   "id": "d919e69a",
   "metadata": {},
   "outputs": [
    {
     "ename": "KeyError",
     "evalue": "4",
     "output_type": "error",
     "traceback": [
      "\u001b[1;31m---------------------------------------------------------------------------\u001b[0m",
      "\u001b[1;31mKeyError\u001b[0m                                  Traceback (most recent call last)",
      "Cell \u001b[1;32mIn [30], line 1\u001b[0m\n\u001b[1;32m----> 1\u001b[0m \u001b[43ms\u001b[49m\u001b[38;5;241;43m.\u001b[39;49m\u001b[43mremove\u001b[49m\u001b[43m(\u001b[49m\u001b[38;5;241;43m4\u001b[39;49m\u001b[43m)\u001b[49m\n",
      "\u001b[1;31mKeyError\u001b[0m: 4"
     ]
    }
   ],
   "source": [
    "s.remove(4)"
   ]
  },
  {
   "cell_type": "code",
   "execution_count": 41,
   "id": "e72373fc",
   "metadata": {},
   "outputs": [],
   "source": [
    "s.remove(3)"
   ]
  },
  {
   "cell_type": "code",
   "execution_count": 42,
   "id": "0d27cdd6",
   "metadata": {},
   "outputs": [
    {
     "name": "stdout",
     "output_type": "stream",
     "text": [
      "{9, 'hello'}\n"
     ]
    }
   ],
   "source": [
    "print(s)"
   ]
  },
  {
   "cell_type": "code",
   "execution_count": 44,
   "id": "b742d9fa",
   "metadata": {},
   "outputs": [
    {
     "name": "stdout",
     "output_type": "stream",
     "text": [
      "2\n"
     ]
    }
   ],
   "source": [
    "print(len(s))#print length set"
   ]
  },
  {
   "cell_type": "code",
   "execution_count": 45,
   "id": "08e7306c",
   "metadata": {},
   "outputs": [],
   "source": [
    "s.add(\"nepal\")"
   ]
  },
  {
   "cell_type": "code",
   "execution_count": 46,
   "id": "eaed9448",
   "metadata": {},
   "outputs": [
    {
     "name": "stdout",
     "output_type": "stream",
     "text": [
      "{9, 'hello', 'nepal'}\n"
     ]
    }
   ],
   "source": [
    "print(s)"
   ]
  },
  {
   "cell_type": "code",
   "execution_count": 47,
   "id": "9e8f7c5f",
   "metadata": {},
   "outputs": [],
   "source": [
    "s.add(\"aepal\")"
   ]
  },
  {
   "cell_type": "code",
   "execution_count": 48,
   "id": "9a2569ad",
   "metadata": {},
   "outputs": [
    {
     "name": "stdout",
     "output_type": "stream",
     "text": [
      "{'nepal', 9, 'aepal', 'hello'}\n"
     ]
    }
   ],
   "source": [
    "print(s)"
   ]
  },
  {
   "cell_type": "code",
   "execution_count": 49,
   "id": "007ab56d",
   "metadata": {},
   "outputs": [],
   "source": [
    "#tuple\n",
    "t=tuple(list)"
   ]
  },
  {
   "cell_type": "code",
   "execution_count": 50,
   "id": "be7002ac",
   "metadata": {},
   "outputs": [
    {
     "name": "stdout",
     "output_type": "stream",
     "text": [
      "(6, 6, 7, 'hy', 9)\n"
     ]
    }
   ],
   "source": [
    "print(t)"
   ]
  },
  {
   "cell_type": "code",
   "execution_count": 51,
   "id": "f7e7d43c",
   "metadata": {},
   "outputs": [
    {
     "ename": "AttributeError",
     "evalue": "'tuple' object has no attribute 'append'",
     "output_type": "error",
     "traceback": [
      "\u001b[1;31m---------------------------------------------------------------------------\u001b[0m",
      "\u001b[1;31mAttributeError\u001b[0m                            Traceback (most recent call last)",
      "Cell \u001b[1;32mIn [51], line 1\u001b[0m\n\u001b[1;32m----> 1\u001b[0m \u001b[43mt\u001b[49m\u001b[38;5;241;43m.\u001b[39;49m\u001b[43mappend\u001b[49m(\u001b[38;5;241m9\u001b[39m)\n",
      "\u001b[1;31mAttributeError\u001b[0m: 'tuple' object has no attribute 'append'"
     ]
    }
   ],
   "source": [
    "t.append(9)"
   ]
  },
  {
   "cell_type": "markdown",
   "id": "d3230635",
   "metadata": {},
   "source": [
    "# dictionary\n"
   ]
  },
  {
   "cell_type": "code",
   "execution_count": 52,
   "id": "a73a06ee",
   "metadata": {},
   "outputs": [],
   "source": [
    "d={}\n",
    "\n",
    "d[3]=\"hello am vlaue 3\"\n",
    "d[6]=\"hello am vlaue 6\""
   ]
  },
  {
   "cell_type": "code",
   "execution_count": 57,
   "id": "c3b97d75",
   "metadata": {},
   "outputs": [
    {
     "name": "stdout",
     "output_type": "stream",
     "text": [
      "{3: 'hello am vlaue 3', 6: 'hello am vlaue 6'} "
     ]
    }
   ],
   "source": [
    "print(d ,end=\" \")"
   ]
  },
  {
   "cell_type": "code",
   "execution_count": 58,
   "id": "a5c04d40",
   "metadata": {},
   "outputs": [],
   "source": [
    "del d[3]"
   ]
  },
  {
   "cell_type": "code",
   "execution_count": 59,
   "id": "ab9f5c2f",
   "metadata": {},
   "outputs": [
    {
     "name": "stdout",
     "output_type": "stream",
     "text": [
      "{6: 'hello am vlaue 6'}\n"
     ]
    }
   ],
   "source": [
    "print(d)"
   ]
  },
  {
   "cell_type": "code",
   "execution_count": 68,
   "id": "7fbfadef",
   "metadata": {},
   "outputs": [],
   "source": [
    "d[6]=\" im another value of 6\""
   ]
  },
  {
   "cell_type": "code",
   "execution_count": 65,
   "id": "21a66007",
   "metadata": {},
   "outputs": [
    {
     "name": "stdout",
     "output_type": "stream",
     "text": [
      "{6: ' im another value of 6'}\n"
     ]
    }
   ],
   "source": [
    "print(d)"
   ]
  },
  {
   "cell_type": "code",
   "execution_count": 69,
   "id": "45b4baab",
   "metadata": {},
   "outputs": [
    {
     "ename": "KeyError",
     "evalue": "'im another value of 6'",
     "output_type": "error",
     "traceback": [
      "\u001b[1;31m---------------------------------------------------------------------------\u001b[0m",
      "\u001b[1;31mKeyError\u001b[0m                                  Traceback (most recent call last)",
      "Cell \u001b[1;32mIn [69], line 1\u001b[0m\n\u001b[1;32m----> 1\u001b[0m \u001b[43md\u001b[49m\u001b[38;5;241;43m.\u001b[39;49m\u001b[43mpop\u001b[49m\u001b[43m(\u001b[49m\u001b[38;5;124;43m\"\u001b[39;49m\u001b[38;5;124;43mim another value of 6\u001b[39;49m\u001b[38;5;124;43m\"\u001b[39;49m\u001b[43m)\u001b[49m\n\u001b[0;32m      2\u001b[0m \u001b[38;5;28mprint\u001b[39m(d)\n",
      "\u001b[1;31mKeyError\u001b[0m: 'im another value of 6'"
     ]
    }
   ],
   "source": [
    "d.pop(\"im another value of 6\")\n",
    "print(d)"
   ]
  },
  {
   "cell_type": "code",
   "execution_count": 70,
   "id": "16465eac",
   "metadata": {},
   "outputs": [],
   "source": [
    "d[6]=\" im another value of 6\""
   ]
  },
  {
   "cell_type": "code",
   "execution_count": 71,
   "id": "b82ee235",
   "metadata": {},
   "outputs": [
    {
     "name": "stdout",
     "output_type": "stream",
     "text": [
      "8\n"
     ]
    }
   ],
   "source": [
    "a=2**3\n",
    "print(a)"
   ]
  },
  {
   "cell_type": "markdown",
   "id": "a4330aa1",
   "metadata": {},
   "source": [
    "# comprehesion"
   ]
  },
  {
   "cell_type": "code",
   "execution_count": 77,
   "id": "ef7739f0",
   "metadata": {},
   "outputs": [
    {
     "name": "stdout",
     "output_type": "stream",
     "text": [
      "{1: 1, 2: 4, 3: 9, 4: 16, 5: 25, 6: 36, 7: 49, 8: 64, 9: 81, 10: 100}\n"
     ]
    }
   ],
   "source": [
    "square_dict=dict()\n",
    "\n",
    "for num in range(1,11):\n",
    "    square_dict[num]= num*num\n",
    "print(square_dict)\n",
    "    "
   ]
  },
  {
   "cell_type": "code",
   "execution_count": 74,
   "id": "db631406",
   "metadata": {},
   "outputs": [
    {
     "name": "stdout",
     "output_type": "stream",
     "text": [
      "{1: 1, 2: 4, 3: 9, 4: 16, 5: 25, 6: 36, 7: 49, 8: 64, 9: 81, 10: 100}\n"
     ]
    }
   ],
   "source": [
    "square_dict={num:num*num for num in range(1,11)}\n",
    "print(square_dict)"
   ]
  },
  {
   "cell_type": "code",
   "execution_count": 80,
   "id": "09b3e25b",
   "metadata": {},
   "outputs": [],
   "source": [
    "#imtem price in dollar\n",
    "old_price={'milk':50.50,'coffee':200}"
   ]
  },
  {
   "cell_type": "code",
   "execution_count": 81,
   "id": "477de848",
   "metadata": {},
   "outputs": [],
   "source": [
    "dollar_to_pound=0.76"
   ]
  },
  {
   "cell_type": "code",
   "execution_count": 82,
   "id": "707e37f9",
   "metadata": {},
   "outputs": [
    {
     "ename": "SyntaxError",
     "evalue": "invalid syntax (1444984324.py, line 1)",
     "output_type": "error",
     "traceback": [
      "\u001b[1;36m  Cell \u001b[1;32mIn [82], line 1\u001b[1;36m\u001b[0m\n\u001b[1;33m    new_price={item.value*dollar_to_pound for (item.value)}\u001b[0m\n\u001b[1;37m                                                          ^\u001b[0m\n\u001b[1;31mSyntaxError\u001b[0m\u001b[1;31m:\u001b[0m invalid syntax\n"
     ]
    }
   ],
   "source": [
    "new_price={item.value*dollar_to_pound for (item.value)}"
   ]
  },
  {
   "cell_type": "code",
   "execution_count": 83,
   "id": "c2ff8f27",
   "metadata": {},
   "outputs": [],
   "source": [
    "languages=[\n",
    "    {\n",
    "        \"Python\":\"ML\",\"R\":\"ML\"\n",
    "    },\n",
    "    {\n",
    "         \"Python\":\"web dev\",\"Java Script\":\"Web dev\"\n",
    "    },\n",
    "    {\n",
    "        \"c++\":\"game Dev\", \"Python\":\"Game dev\"\n",
    "    }\n",
    "]"
   ]
  },
  {
   "cell_type": "code",
   "execution_count": 84,
   "id": "c9503f2b",
   "metadata": {},
   "outputs": [
    {
     "name": "stdout",
     "output_type": "stream",
     "text": [
      "[{'Python': 'ML', 'R': 'ML'}, {'Python': 'web dev', 'Java Script': 'Web dev'}, {'c++': 'game Dev', 'Python': 'Game dev'}]\n"
     ]
    }
   ],
   "source": [
    "print(languages)"
   ]
  },
  {
   "cell_type": "code",
   "execution_count": 89,
   "id": "54083401",
   "metadata": {},
   "outputs": [
    {
     "name": "stdout",
     "output_type": "stream",
     "text": [
      "Python\n",
      "R\n",
      "Python\n",
      "Java Script\n",
      "c++\n",
      "Python\n"
     ]
    }
   ],
   "source": [
    "print(*[key for i in languages for key in i.keys()], sep=\"\\n\")"
   ]
  },
  {
   "cell_type": "code",
   "execution_count": 94,
   "id": "3cfe0527",
   "metadata": {},
   "outputs": [
    {
     "name": "stdout",
     "output_type": "stream",
     "text": [
      "Python\n",
      "R\n",
      "Python\n",
      "Java Script\n",
      "c++\n",
      "Python\n"
     ]
    }
   ],
   "source": [
    "# print([key for i in languages for key in i.keys()], sep=\"\\n\")\n",
    "for i in languages:\n",
    "    for key in i.keys():\n",
    "        print(key, sep=\"\\n\")"
   ]
  },
  {
   "cell_type": "code",
   "execution_count": 93,
   "id": "7e718ff0",
   "metadata": {},
   "outputs": [
    {
     "name": "stdout",
     "output_type": "stream",
     "text": [
      "ML\n",
      "ML\n",
      "web dev\n",
      "Web dev\n",
      "game Dev\n",
      "Game dev\n"
     ]
    }
   ],
   "source": [
    "print(*[key for i in languages for key in i.values()], sep=\"\\n\")"
   ]
  },
  {
   "cell_type": "code",
   "execution_count": null,
   "id": "7c9059c9",
   "metadata": {},
   "outputs": [],
   "source": []
  }
 ],
 "metadata": {
  "kernelspec": {
   "display_name": "Python 3 (ipykernel)",
   "language": "python",
   "name": "python3"
  },
  "language_info": {
   "codemirror_mode": {
    "name": "ipython",
    "version": 3
   },
   "file_extension": ".py",
   "mimetype": "text/x-python",
   "name": "python",
   "nbconvert_exporter": "python",
   "pygments_lexer": "ipython3",
   "version": "3.10.5"
  }
 },
 "nbformat": 4,
 "nbformat_minor": 5
}
